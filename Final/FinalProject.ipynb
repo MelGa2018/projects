{
 "cells": [
  {
   "cell_type": "code",
   "execution_count": 65,
   "metadata": {
    "collapsed": true
   },
   "outputs": [],
   "source": [
    "import pandas as pd\n",
    "import numpy as np\n",
    "import matplotlib.pyplot as plt\n",
    "from sklearn.model_selection import cross_val_score\n",
    "from sklearn.metrics import confusion_matrix\n",
    "#import statsmodels.api as sm\n",
    "#import pylab as pl\n",
    "import seaborn as sns\n",
    "%matplotlib inline\n",
    "import scipy.stats as stats"
   ]
  },
  {
   "cell_type": "code",
   "execution_count": 2,
   "metadata": {},
   "outputs": [
    {
     "data": {
      "text/html": [
       "<div>\n",
       "<style>\n",
       "    .dataframe thead tr:only-child th {\n",
       "        text-align: right;\n",
       "    }\n",
       "\n",
       "    .dataframe thead th {\n",
       "        text-align: left;\n",
       "    }\n",
       "\n",
       "    .dataframe tbody tr th {\n",
       "        vertical-align: top;\n",
       "    }\n",
       "</style>\n",
       "<table border=\"1\" class=\"dataframe\">\n",
       "  <thead>\n",
       "    <tr style=\"text-align: right;\">\n",
       "      <th></th>\n",
       "      <th>Field ID</th>\n",
       "      <th>Depth</th>\n",
       "      <th>Location Code</th>\n",
       "      <th>Date</th>\n",
       "      <th>Sample Code</th>\n",
       "      <th>Contaminated</th>\n",
       "      <th>Arsenic</th>\n",
       "      <th>Cadmium</th>\n",
       "      <th>Chromium</th>\n",
       "      <th>Copper</th>\n",
       "      <th>Lead</th>\n",
       "      <th>Manganese</th>\n",
       "      <th>Nickel</th>\n",
       "      <th>Zinc</th>\n",
       "    </tr>\n",
       "  </thead>\n",
       "  <tbody>\n",
       "    <tr>\n",
       "      <th>0</th>\n",
       "      <td>TP12/0.2</td>\n",
       "      <td>0.2</td>\n",
       "      <td>TP12</td>\n",
       "      <td>25-Feb-16</td>\n",
       "      <td>16NaN11537</td>\n",
       "      <td>1</td>\n",
       "      <td>5.00</td>\n",
       "      <td>0.20</td>\n",
       "      <td>15</td>\n",
       "      <td>13</td>\n",
       "      <td>11</td>\n",
       "      <td>390</td>\n",
       "      <td>13</td>\n",
       "      <td>49</td>\n",
       "    </tr>\n",
       "    <tr>\n",
       "      <th>1</th>\n",
       "      <td>TP12/1.1</td>\n",
       "      <td>1.1</td>\n",
       "      <td>TP12</td>\n",
       "      <td>25-Feb-16</td>\n",
       "      <td>16NaN11537</td>\n",
       "      <td>0</td>\n",
       "      <td>5.00</td>\n",
       "      <td>0.20</td>\n",
       "      <td>NaN</td>\n",
       "      <td>13</td>\n",
       "      <td>11</td>\n",
       "      <td>NaN</td>\n",
       "      <td>12</td>\n",
       "      <td>46</td>\n",
       "    </tr>\n",
       "    <tr>\n",
       "      <th>2</th>\n",
       "      <td>TP12/2.5</td>\n",
       "      <td>2.5</td>\n",
       "      <td>TP12</td>\n",
       "      <td>25-Feb-16</td>\n",
       "      <td>16NaN11537</td>\n",
       "      <td>1</td>\n",
       "      <td>9</td>\n",
       "      <td>0.20</td>\n",
       "      <td>33</td>\n",
       "      <td>32</td>\n",
       "      <td>24</td>\n",
       "      <td>250</td>\n",
       "      <td>31</td>\n",
       "      <td>54</td>\n",
       "    </tr>\n",
       "    <tr>\n",
       "      <th>3</th>\n",
       "      <td>TP12/3.5</td>\n",
       "      <td>3.5</td>\n",
       "      <td>TP12</td>\n",
       "      <td>25-Feb-16</td>\n",
       "      <td>16NaN11537</td>\n",
       "      <td>0</td>\n",
       "      <td>NaN</td>\n",
       "      <td>NaN</td>\n",
       "      <td>NaN</td>\n",
       "      <td>NaN</td>\n",
       "      <td>NaN</td>\n",
       "      <td>NaN</td>\n",
       "      <td>NaN</td>\n",
       "      <td>NaN</td>\n",
       "    </tr>\n",
       "    <tr>\n",
       "      <th>4</th>\n",
       "      <td>TP12/4.8</td>\n",
       "      <td>4.8</td>\n",
       "      <td>TP12</td>\n",
       "      <td>25-Feb-16</td>\n",
       "      <td>16NaN11537</td>\n",
       "      <td>0</td>\n",
       "      <td>5.00</td>\n",
       "      <td>0.20</td>\n",
       "      <td>260</td>\n",
       "      <td>13</td>\n",
       "      <td>11</td>\n",
       "      <td>200</td>\n",
       "      <td>27</td>\n",
       "      <td>31</td>\n",
       "    </tr>\n",
       "  </tbody>\n",
       "</table>\n",
       "</div>"
      ],
      "text/plain": [
       "   Field ID  Depth Location Code        Date Sample Code  Contaminated  \\\n",
       "0  TP12/0.2    0.2           TP12  25-Feb-16  16NaN11537             1   \n",
       "1  TP12/1.1    1.1           TP12  25-Feb-16  16NaN11537             0   \n",
       "2  TP12/2.5    2.5           TP12  25-Feb-16  16NaN11537             1   \n",
       "3  TP12/3.5    3.5           TP12  25-Feb-16  16NaN11537             0   \n",
       "4  TP12/4.8    4.8           TP12  25-Feb-16  16NaN11537             0   \n",
       "\n",
       "  Arsenic Cadmium Chromium Copper   Lead Manganese Nickel   Zinc  \n",
       "0    5.00    0.20       15     13     11       390     13     49  \n",
       "1    5.00    0.20     NaN      13     11      NaN      12     46  \n",
       "2       9    0.20       33     32     24       250     31     54  \n",
       "3     NaN    NaN      NaN    NaN    NaN       NaN    NaN    NaN   \n",
       "4    5.00    0.20      260     13     11       200     27     31  "
      ]
     },
     "execution_count": 2,
     "metadata": {},
     "output_type": "execute_result"
    }
   ],
   "source": [
    "#Read in data from source \n",
    "df_raw = pd.read_csv(\"C:\\\\DataScience\\\\DB\\\\SoilSampleData.csv\")\n",
    "df_raw.head()"
   ]
  },
  {
   "cell_type": "code",
   "execution_count": 3,
   "metadata": {},
   "outputs": [
    {
     "data": {
      "text/plain": [
       "151"
      ]
     },
     "execution_count": 3,
     "metadata": {},
     "output_type": "execute_result"
    }
   ],
   "source": [
    "#Columns of interest: Contaminted, Arsenic, Cadmium, Chromium, Cooper, Lead, Manganese, Nickel, Zinc\n",
    "#Data Preparation\n",
    "len(df_raw)   # no of observations"
   ]
  },
  {
   "cell_type": "code",
   "execution_count": 4,
   "metadata": {},
   "outputs": [
    {
     "data": {
      "text/plain": [
       "(151, 14)"
      ]
     },
     "execution_count": 4,
     "metadata": {},
     "output_type": "execute_result"
    }
   ],
   "source": [
    "df_raw.shape    #no of rows and columns"
   ]
  },
  {
   "cell_type": "code",
   "execution_count": 5,
   "metadata": {},
   "outputs": [
    {
     "data": {
      "text/plain": [
       "Field ID          151\n",
       "Depth             151\n",
       "Location Code     151\n",
       "Date              151\n",
       "Sample Code       151\n",
       "Contaminated      151\n",
       "Arsenic           150\n",
       "Cadmium           151\n",
       "Chromium          151\n",
       "Copper            151\n",
       "Lead              151\n",
       "Manganese         151\n",
       "Nickel            151\n",
       "Zinc              151\n",
       "dtype: int64"
      ]
     },
     "execution_count": 5,
     "metadata": {},
     "output_type": "execute_result"
    }
   ],
   "source": [
    "df_raw.count()  # no of diffrent values"
   ]
  },
  {
   "cell_type": "code",
   "execution_count": 6,
   "metadata": {},
   "outputs": [
    {
     "data": {
      "text/plain": [
       "150"
      ]
     },
     "execution_count": 6,
     "metadata": {},
     "output_type": "execute_result"
    }
   ],
   "source": [
    "df_raw = df_raw.dropna()  # drop null rows\n",
    "df_raw = df_raw.drop_duplicates() # drop duplicates\n",
    "len(df_raw)    "
   ]
  },
  {
   "cell_type": "code",
   "execution_count": 7,
   "metadata": {},
   "outputs": [
    {
     "name": "stdout",
     "output_type": "stream",
     "text": [
      "Field ID           object\n",
      "Depth             float64\n",
      "Location Code      object\n",
      "Date               object\n",
      "Sample Code        object\n",
      "Contaminated        int64\n",
      "Arsenic            object\n",
      "Cadmium            object\n",
      "Chromium           object\n",
      "Copper             object\n",
      "Lead               object\n",
      "Manganese          object\n",
      "Nickel             object\n",
      "Zinc               object\n",
      "dtype: object\n"
     ]
    }
   ],
   "source": [
    "print(df_raw.dtypes)"
   ]
  },
  {
   "cell_type": "code",
   "execution_count": 8,
   "metadata": {},
   "outputs": [
    {
     "name": "stdout",
     "output_type": "stream",
     "text": [
      "Field ID           object\n",
      "Depth             float64\n",
      "Location Code      object\n",
      "Date               object\n",
      "Sample Code        object\n",
      "Contaminated        int64\n",
      "Arsenic           float64\n",
      "Cadmium           float64\n",
      "Chromium          float64\n",
      "Copper            float64\n",
      "Lead              float64\n",
      "Manganese         float64\n",
      "Nickel            float64\n",
      "Zinc              float64\n",
      "dtype: object\n"
     ]
    }
   ],
   "source": [
    "#Convert last 8 columns type to float\n",
    "\n",
    "#df_raw = df_raw.replace('NaN', np.NaN) \n",
    "\n",
    "df_raw['Arsenic'] = df_raw.Arsenic.astype(float)\n",
    "df_raw['Cadmium'] = df_raw.Cadmium.astype(float)\n",
    "df_raw['Chromium'] = df_raw.Chromium.astype(float)\n",
    "df_raw['Copper'] = df_raw.Copper.astype(float)\n",
    "df_raw['Lead'] = df_raw.Lead.astype(float)\n",
    "df_raw['Manganese'] = df_raw.Manganese.astype(float)\n",
    "df_raw['Nickel'] = df_raw.Nickel.astype(float)\n",
    "df_raw['Zinc'] = df_raw.Zinc.astype(float)\n",
    "\n",
    "print(df_raw.dtypes)"
   ]
  },
  {
   "cell_type": "code",
   "execution_count": 9,
   "metadata": {},
   "outputs": [
    {
     "data": {
      "text/plain": [
       "Field ID           0\n",
       "Depth              0\n",
       "Location Code      0\n",
       "Date               0\n",
       "Sample Code        0\n",
       "Contaminated       0\n",
       "Arsenic           32\n",
       "Cadmium           32\n",
       "Chromium          40\n",
       "Copper            28\n",
       "Lead              30\n",
       "Manganese         44\n",
       "Nickel            34\n",
       "Zinc              33\n",
       "dtype: int64"
      ]
     },
     "execution_count": 9,
     "metadata": {},
     "output_type": "execute_result"
    }
   ],
   "source": [
    "df_raw.isnull().sum()"
   ]
  },
  {
   "cell_type": "code",
   "execution_count": 10,
   "metadata": {
    "collapsed": true
   },
   "outputs": [],
   "source": [
    "#Replace nan values with column average \n",
    "df_clean = df_raw.fillna(df_raw.mean())"
   ]
  },
  {
   "cell_type": "code",
   "execution_count": 11,
   "metadata": {},
   "outputs": [
    {
     "data": {
      "text/plain": [
       "Field ID          0\n",
       "Depth             0\n",
       "Location Code     0\n",
       "Date              0\n",
       "Sample Code       0\n",
       "Contaminated      0\n",
       "Arsenic           0\n",
       "Cadmium           0\n",
       "Chromium          0\n",
       "Copper            0\n",
       "Lead              0\n",
       "Manganese         0\n",
       "Nickel            0\n",
       "Zinc              0\n",
       "dtype: int64"
      ]
     },
     "execution_count": 11,
     "metadata": {},
     "output_type": "execute_result"
    }
   ],
   "source": [
    "# Check for nan\n",
    "df_clean.isnull().sum()"
   ]
  },
  {
   "cell_type": "code",
   "execution_count": 12,
   "metadata": {},
   "outputs": [
    {
     "data": {
      "text/html": [
       "<div>\n",
       "<style>\n",
       "    .dataframe thead tr:only-child th {\n",
       "        text-align: right;\n",
       "    }\n",
       "\n",
       "    .dataframe thead th {\n",
       "        text-align: left;\n",
       "    }\n",
       "\n",
       "    .dataframe tbody tr th {\n",
       "        vertical-align: top;\n",
       "    }\n",
       "</style>\n",
       "<table border=\"1\" class=\"dataframe\">\n",
       "  <thead>\n",
       "    <tr style=\"text-align: right;\">\n",
       "      <th></th>\n",
       "      <th>count</th>\n",
       "      <th>mean</th>\n",
       "      <th>critical val</th>\n",
       "      <th>critical margin</th>\n",
       "      <th>std</th>\n",
       "      <th>min</th>\n",
       "      <th>25%</th>\n",
       "      <th>50%</th>\n",
       "      <th>75%</th>\n",
       "      <th>max</th>\n",
       "    </tr>\n",
       "  </thead>\n",
       "  <tbody>\n",
       "    <tr>\n",
       "      <th>Arsenic</th>\n",
       "      <td>150.0</td>\n",
       "      <td>12.567797</td>\n",
       "      <td>100</td>\n",
       "      <td>87.432203</td>\n",
       "      <td>12.991210</td>\n",
       "      <td>5.0</td>\n",
       "      <td>5.0</td>\n",
       "      <td>9.500000</td>\n",
       "      <td>12.567797</td>\n",
       "      <td>120.0</td>\n",
       "    </tr>\n",
       "    <tr>\n",
       "      <th>Cadmium</th>\n",
       "      <td>150.0</td>\n",
       "      <td>1.340678</td>\n",
       "      <td>10</td>\n",
       "      <td>8.659322</td>\n",
       "      <td>4.081802</td>\n",
       "      <td>0.2</td>\n",
       "      <td>0.2</td>\n",
       "      <td>0.200000</td>\n",
       "      <td>1.340678</td>\n",
       "      <td>29.0</td>\n",
       "    </tr>\n",
       "    <tr>\n",
       "      <th>Chromium</th>\n",
       "      <td>150.0</td>\n",
       "      <td>173.009091</td>\n",
       "      <td>430</td>\n",
       "      <td>256.990909</td>\n",
       "      <td>424.251263</td>\n",
       "      <td>11.0</td>\n",
       "      <td>30.0</td>\n",
       "      <td>40.500000</td>\n",
       "      <td>173.009091</td>\n",
       "      <td>3300.0</td>\n",
       "    </tr>\n",
       "    <tr>\n",
       "      <th>Copper</th>\n",
       "      <td>150.0</td>\n",
       "      <td>36.016393</td>\n",
       "      <td>220</td>\n",
       "      <td>183.983607</td>\n",
       "      <td>58.408993</td>\n",
       "      <td>5.0</td>\n",
       "      <td>13.0</td>\n",
       "      <td>20.000000</td>\n",
       "      <td>36.016393</td>\n",
       "      <td>510.0</td>\n",
       "    </tr>\n",
       "    <tr>\n",
       "      <th>Lead</th>\n",
       "      <td>150.0</td>\n",
       "      <td>157.148333</td>\n",
       "      <td>1100</td>\n",
       "      <td>942.851667</td>\n",
       "      <td>507.210525</td>\n",
       "      <td>5.0</td>\n",
       "      <td>13.0</td>\n",
       "      <td>27.500000</td>\n",
       "      <td>157.148333</td>\n",
       "      <td>3700.0</td>\n",
       "    </tr>\n",
       "    <tr>\n",
       "      <th>Manganese</th>\n",
       "      <td>150.0</td>\n",
       "      <td>258.481132</td>\n",
       "      <td>220</td>\n",
       "      <td>-38.481132</td>\n",
       "      <td>144.656512</td>\n",
       "      <td>54.0</td>\n",
       "      <td>192.5</td>\n",
       "      <td>258.481132</td>\n",
       "      <td>258.481132</td>\n",
       "      <td>1400.0</td>\n",
       "    </tr>\n",
       "    <tr>\n",
       "      <th>Nickel</th>\n",
       "      <td>150.0</td>\n",
       "      <td>34.870690</td>\n",
       "      <td>290</td>\n",
       "      <td>255.129310</td>\n",
       "      <td>29.973933</td>\n",
       "      <td>6.0</td>\n",
       "      <td>20.0</td>\n",
       "      <td>31.000000</td>\n",
       "      <td>34.870690</td>\n",
       "      <td>220.0</td>\n",
       "    </tr>\n",
       "    <tr>\n",
       "      <th>Zinc</th>\n",
       "      <td>150.0</td>\n",
       "      <td>106.615385</td>\n",
       "      <td>710</td>\n",
       "      <td>603.384615</td>\n",
       "      <td>215.624389</td>\n",
       "      <td>8.0</td>\n",
       "      <td>35.0</td>\n",
       "      <td>58.500000</td>\n",
       "      <td>106.615385</td>\n",
       "      <td>2300.0</td>\n",
       "    </tr>\n",
       "  </tbody>\n",
       "</table>\n",
       "</div>"
      ],
      "text/plain": [
       "           count        mean  critical val  critical margin         std   min  \\\n",
       "Arsenic    150.0   12.567797           100        87.432203   12.991210   5.0   \n",
       "Cadmium    150.0    1.340678            10         8.659322    4.081802   0.2   \n",
       "Chromium   150.0  173.009091           430       256.990909  424.251263  11.0   \n",
       "Copper     150.0   36.016393           220       183.983607   58.408993   5.0   \n",
       "Lead       150.0  157.148333          1100       942.851667  507.210525   5.0   \n",
       "Manganese  150.0  258.481132           220       -38.481132  144.656512  54.0   \n",
       "Nickel     150.0   34.870690           290       255.129310   29.973933   6.0   \n",
       "Zinc       150.0  106.615385           710       603.384615  215.624389   8.0   \n",
       "\n",
       "             25%         50%         75%     max  \n",
       "Arsenic      5.0    9.500000   12.567797   120.0  \n",
       "Cadmium      0.2    0.200000    1.340678    29.0  \n",
       "Chromium    30.0   40.500000  173.009091  3300.0  \n",
       "Copper      13.0   20.000000   36.016393   510.0  \n",
       "Lead        13.0   27.500000  157.148333  3700.0  \n",
       "Manganese  192.5  258.481132  258.481132  1400.0  \n",
       "Nickel      20.0   31.000000   34.870690   220.0  \n",
       "Zinc        35.0   58.500000  106.615385  2300.0  "
      ]
     },
     "execution_count": 12,
     "metadata": {},
     "output_type": "execute_result"
    }
   ],
   "source": [
    "df_stat = df_clean.iloc[:, 6:14].describe().T\n",
    "df_stat.insert(2,'critical val',[100,10,430,220,1100,220,290,710])\n",
    "df_stat.insert(3,'critical margin', df_stat['critical val'] - df_stat['mean'])\n",
    "df_stat"
   ]
  },
  {
   "attachments": {},
   "cell_type": "markdown",
   "metadata": {},
   "source": [
    "H0: The mean concentration on the contaminant is less than the critical concentration.\n",
    "Null hypotesis is not true. Manganese mean is great than the critical value."
   ]
  },
  {
   "cell_type": "code",
   "execution_count": 13,
   "metadata": {},
   "outputs": [
    {
     "name": "stdout",
     "output_type": "stream",
     "text": [
      "(150, 14)\n"
     ]
    }
   ],
   "source": [
    "print(df_clean.shape)"
   ]
  },
  {
   "cell_type": "code",
   "execution_count": 14,
   "metadata": {},
   "outputs": [
    {
     "data": {
      "text/plain": [
       "<matplotlib.axes._subplots.AxesSubplot at 0x912e9b77b8>"
      ]
     },
     "execution_count": 14,
     "metadata": {},
     "output_type": "execute_result"
    },
    {
     "data": {
      "image/png": "[encoded data removed]",
      "text/plain": [
       "<matplotlib.figure.Figure at 0x912e982358>"
      ]
     },
     "metadata": {},
     "output_type": "display_data"
    }
   ],
   "source": [
    "sns.distplot( df_clean[\"Arsenic\"] , color=\"blue\")"
   ]
  },
  {
   "cell_type": "code",
   "execution_count": 15,
   "metadata": {},
   "outputs": [
    {
     "data": {
      "text/plain": [
       "<matplotlib.axes._subplots.AxesSubplot at 0x912e8d3fd0>"
      ]
     },
     "execution_count": 15,
     "metadata": {},
     "output_type": "execute_result"
    },
    {
     "data": {
      "image/png": "[encoded data removed]",
      "text/plain": [
       "<matplotlib.figure.Figure at 0x912e6ca630>"
      ]
     },
     "metadata": {},
     "output_type": "display_data"
    }
   ],
   "source": [
    "sns.distplot( df_clean[\"Cadmium\"] , color=\"blue\")"
   ]
  },
  {
   "cell_type": "code",
   "execution_count": 16,
   "metadata": {},
   "outputs": [
    {
     "data": {
      "text/plain": [
       "<matplotlib.axes._subplots.AxesSubplot at 0x912cf3eac8>"
      ]
     },
     "execution_count": 16,
     "metadata": {},
     "output_type": "execute_result"
    },
    {
     "data": {
      "image/png": "[encoded data removed]",
      "text/plain": [
       "<matplotlib.figure.Figure at 0x912d004048>"
      ]
     },
     "metadata": {},
     "output_type": "display_data"
    }
   ],
   "source": [
    "sns.distplot( df_clean[\"Chromium\"] , color=\"blue\")"
   ]
  },
  {
   "cell_type": "code",
   "execution_count": 17,
   "metadata": {},
   "outputs": [
    {
     "data": {
      "text/plain": [
       "<matplotlib.axes._subplots.AxesSubplot at 0x912ce9ce48>"
      ]
     },
     "execution_count": 17,
     "metadata": {},
     "output_type": "execute_result"
    },
    {
     "data": {
      "image/png": "[encoded data removed]",
      "text/plain": [
       "<matplotlib.figure.Figure at 0x912cd305c0>"
      ]
     },
     "metadata": {},
     "output_type": "display_data"
    }
   ],
   "source": [
    "sns.distplot( df_clean[\"Copper\"] , color=\"blue\")"
   ]
  },
  {
   "cell_type": "code",
   "execution_count": 18,
   "metadata": {},
   "outputs": [
    {
     "data": {
      "text/plain": [
       "<matplotlib.axes._subplots.AxesSubplot at 0x912eaa2240>"
      ]
     },
     "execution_count": 18,
     "metadata": {},
     "output_type": "execute_result"
    },
    {
     "data": {
      "image/png": "[encoded data removed]",
      "text/plain": [
       "<matplotlib.figure.Figure at 0x912fbde978>"
      ]
     },
     "metadata": {},
     "output_type": "display_data"
    }
   ],
   "source": [
    "sns.distplot( df_clean[\"Lead\"] , color=\"blue\")"
   ]
  },
  {
   "cell_type": "code",
   "execution_count": 19,
   "metadata": {},
   "outputs": [
    {
     "data": {
      "text/plain": [
       "<matplotlib.axes._subplots.AxesSubplot at 0x912fd702e8>"
      ]
     },
     "execution_count": 19,
     "metadata": {},
     "output_type": "execute_result"
    },
    {
     "data": {
      "image/png": "[encoded data removed]",
      "text/plain": [
       "<matplotlib.figure.Figure at 0x912fd7b4a8>"
      ]
     },
     "metadata": {},
     "output_type": "display_data"
    }
   ],
   "source": [
    "sns.distplot( df_clean[\"Manganese\"] , color=\"blue\")"
   ]
  },
  {
   "cell_type": "code",
   "execution_count": 20,
   "metadata": {},
   "outputs": [
    {
     "data": {
      "text/plain": [
       "<matplotlib.axes._subplots.AxesSubplot at 0x912fe5f518>"
      ]
     },
     "execution_count": 20,
     "metadata": {},
     "output_type": "execute_result"
    },
    {
     "data": {
      "image/png": "[encoded data removed]",
      "text/plain": [
       "<matplotlib.figure.Figure at 0x912fd7b6a0>"
      ]
     },
     "metadata": {},
     "output_type": "display_data"
    }
   ],
   "source": [
    "sns.distplot( df_clean[\"Nickel\"] , color=\"blue\")"
   ]
  },
  {
   "cell_type": "code",
   "execution_count": 21,
   "metadata": {},
   "outputs": [
    {
     "data": {
      "text/plain": [
       "<matplotlib.axes._subplots.AxesSubplot at 0x912fd85dd8>"
      ]
     },
     "execution_count": 21,
     "metadata": {},
     "output_type": "execute_result"
    },
    {
     "data": {
      "image/png": "[encoded data removed]",
      "text/plain": [
       "<matplotlib.figure.Figure at 0x9130079710>"
      ]
     },
     "metadata": {},
     "output_type": "display_data"
    }
   ],
   "source": [
    "sns.distplot( df_clean[\"Zinc\"] , color=\"blue\")"
   ]
  },
  {
   "cell_type": "code",
   "execution_count": 22,
   "metadata": {},
   "outputs": [
    {
     "data": {
      "text/plain": [
       "<matplotlib.axes._subplots.AxesSubplot at 0x9130130f60>"
      ]
     },
     "execution_count": 22,
     "metadata": {},
     "output_type": "execute_result"
    },
    {
     "data": {
      "image/png": "[encoded data removed]",
      "text/plain": [
       "<matplotlib.figure.Figure at 0x912ff33ef0>"
      ]
     },
     "metadata": {},
     "output_type": "display_data"
    }
   ],
   "source": [
    "sns.distplot( df_clean[\"Arsenic\"] , color=\"blue\")"
   ]
  },
  {
   "cell_type": "code",
   "execution_count": 23,
   "metadata": {},
   "outputs": [
    {
     "data": {
      "text/plain": [
       "array([[<matplotlib.axes._subplots.AxesSubplot object at 0x0000009130330C50>,\n",
       "        <matplotlib.axes._subplots.AxesSubplot object at 0x00000091303D2128>,\n",
       "        <matplotlib.axes._subplots.AxesSubplot object at 0x00000091303DBF60>],\n",
       "       [<matplotlib.axes._subplots.AxesSubplot object at 0x0000009130499D68>,\n",
       "        <matplotlib.axes._subplots.AxesSubplot object at 0x00000091304F1B70>,\n",
       "        <matplotlib.axes._subplots.AxesSubplot object at 0x00000091304F1BA8>],\n",
       "       [<matplotlib.axes._subplots.AxesSubplot object at 0x00000091305CD208>,\n",
       "        <matplotlib.axes._subplots.AxesSubplot object at 0x00000091306464E0>,\n",
       "        <matplotlib.axes._subplots.AxesSubplot object at 0x00000091306AA470>]], dtype=object)"
      ]
     },
     "execution_count": 23,
     "metadata": {},
     "output_type": "execute_result"
    },
    {
     "data": {
      "image/png": "[encoded data removed]",
      "text/plain": [
       "<matplotlib.figure.Figure at 0x9130354630>"
      ]
     },
     "metadata": {},
     "output_type": "display_data"
    }
   ],
   "source": [
    "df_clean.iloc[:, 6:14].hist(color='blue', alpha=0.5, bins=20)"
   ]
  },
  {
   "cell_type": "code",
   "execution_count": 24,
   "metadata": {},
   "outputs": [
    {
     "data": {
      "text/plain": [
       "array([ 4.75891564,  5.8975554 ,  5.00467961,  6.0720774 ,  5.78944941,\n",
       "        4.32899185,  3.39896778,  7.78195785])"
      ]
     },
     "execution_count": 24,
     "metadata": {},
     "output_type": "execute_result"
    }
   ],
   "source": [
    "stats.skew(df_clean[['Arsenic', 'Cadmium', 'Chromium', 'Copper', 'Lead', 'Manganese', 'Nickel', 'Zinc']])"
   ]
  },
  {
   "cell_type": "code",
   "execution_count": 25,
   "metadata": {},
   "outputs": [
    {
     "data": {
      "text/plain": [
       "array([ 31.55669499,  34.95681806,  27.02577723,  42.42563003,\n",
       "        33.58677098,  27.46574286,  13.79304899,  71.79837017])"
      ]
     },
     "execution_count": 25,
     "metadata": {},
     "output_type": "execute_result"
    }
   ],
   "source": [
    "stats.kurtosis(df_clean[['Arsenic', 'Cadmium', 'Chromium', 'Copper', 'Lead', 'Manganese', 'Nickel', 'Zinc']])"
   ]
  },
  {
   "cell_type": "code",
   "execution_count": 26,
   "metadata": {},
   "outputs": [
    {
     "data": {
      "text/html": [
       "<div>\n",
       "<style>\n",
       "    .dataframe thead tr:only-child th {\n",
       "        text-align: right;\n",
       "    }\n",
       "\n",
       "    .dataframe thead th {\n",
       "        text-align: left;\n",
       "    }\n",
       "\n",
       "    .dataframe tbody tr th {\n",
       "        vertical-align: top;\n",
       "    }\n",
       "</style>\n",
       "<table border=\"1\" class=\"dataframe\">\n",
       "  <thead>\n",
       "    <tr style=\"text-align: right;\">\n",
       "      <th></th>\n",
       "      <th>Arsenic</th>\n",
       "      <th>Cadmium</th>\n",
       "      <th>Chromium</th>\n",
       "      <th>Copper</th>\n",
       "      <th>Lead</th>\n",
       "      <th>Manganese</th>\n",
       "      <th>Nickel</th>\n",
       "      <th>Zinc</th>\n",
       "    </tr>\n",
       "  </thead>\n",
       "  <tbody>\n",
       "    <tr>\n",
       "      <th>Arsenic</th>\n",
       "      <td>1.000000</td>\n",
       "      <td>0.265301</td>\n",
       "      <td>0.024699</td>\n",
       "      <td>0.654389</td>\n",
       "      <td>0.293840</td>\n",
       "      <td>0.180178</td>\n",
       "      <td>-0.000251</td>\n",
       "      <td>0.825283</td>\n",
       "    </tr>\n",
       "    <tr>\n",
       "      <th>Cadmium</th>\n",
       "      <td>0.265301</td>\n",
       "      <td>1.000000</td>\n",
       "      <td>0.385936</td>\n",
       "      <td>0.085510</td>\n",
       "      <td>0.674833</td>\n",
       "      <td>0.034282</td>\n",
       "      <td>0.313350</td>\n",
       "      <td>0.326063</td>\n",
       "    </tr>\n",
       "    <tr>\n",
       "      <th>Chromium</th>\n",
       "      <td>0.024699</td>\n",
       "      <td>0.385936</td>\n",
       "      <td>1.000000</td>\n",
       "      <td>0.027568</td>\n",
       "      <td>0.018938</td>\n",
       "      <td>0.017861</td>\n",
       "      <td>0.742903</td>\n",
       "      <td>0.002409</td>\n",
       "    </tr>\n",
       "    <tr>\n",
       "      <th>Copper</th>\n",
       "      <td>0.654389</td>\n",
       "      <td>0.085510</td>\n",
       "      <td>0.027568</td>\n",
       "      <td>1.000000</td>\n",
       "      <td>0.102863</td>\n",
       "      <td>0.178956</td>\n",
       "      <td>0.081684</td>\n",
       "      <td>0.606092</td>\n",
       "    </tr>\n",
       "    <tr>\n",
       "      <th>Lead</th>\n",
       "      <td>0.293840</td>\n",
       "      <td>0.674833</td>\n",
       "      <td>0.018938</td>\n",
       "      <td>0.102863</td>\n",
       "      <td>1.000000</td>\n",
       "      <td>0.064846</td>\n",
       "      <td>-0.007640</td>\n",
       "      <td>0.381283</td>\n",
       "    </tr>\n",
       "    <tr>\n",
       "      <th>Manganese</th>\n",
       "      <td>0.180178</td>\n",
       "      <td>0.034282</td>\n",
       "      <td>0.017861</td>\n",
       "      <td>0.178956</td>\n",
       "      <td>0.064846</td>\n",
       "      <td>1.000000</td>\n",
       "      <td>0.244936</td>\n",
       "      <td>0.173325</td>\n",
       "    </tr>\n",
       "    <tr>\n",
       "      <th>Nickel</th>\n",
       "      <td>-0.000251</td>\n",
       "      <td>0.313350</td>\n",
       "      <td>0.742903</td>\n",
       "      <td>0.081684</td>\n",
       "      <td>-0.007640</td>\n",
       "      <td>0.244936</td>\n",
       "      <td>1.000000</td>\n",
       "      <td>0.052271</td>\n",
       "    </tr>\n",
       "    <tr>\n",
       "      <th>Zinc</th>\n",
       "      <td>0.825283</td>\n",
       "      <td>0.326063</td>\n",
       "      <td>0.002409</td>\n",
       "      <td>0.606092</td>\n",
       "      <td>0.381283</td>\n",
       "      <td>0.173325</td>\n",
       "      <td>0.052271</td>\n",
       "      <td>1.000000</td>\n",
       "    </tr>\n",
       "  </tbody>\n",
       "</table>\n",
       "</div>"
      ],
      "text/plain": [
       "            Arsenic   Cadmium  Chromium    Copper      Lead  Manganese  \\\n",
       "Arsenic    1.000000  0.265301  0.024699  0.654389  0.293840   0.180178   \n",
       "Cadmium    0.265301  1.000000  0.385936  0.085510  0.674833   0.034282   \n",
       "Chromium   0.024699  0.385936  1.000000  0.027568  0.018938   0.017861   \n",
       "Copper     0.654389  0.085510  0.027568  1.000000  0.102863   0.178956   \n",
       "Lead       0.293840  0.674833  0.018938  0.102863  1.000000   0.064846   \n",
       "Manganese  0.180178  0.034282  0.017861  0.178956  0.064846   1.000000   \n",
       "Nickel    -0.000251  0.313350  0.742903  0.081684 -0.007640   0.244936   \n",
       "Zinc       0.825283  0.326063  0.002409  0.606092  0.381283   0.173325   \n",
       "\n",
       "             Nickel      Zinc  \n",
       "Arsenic   -0.000251  0.825283  \n",
       "Cadmium    0.313350  0.326063  \n",
       "Chromium   0.742903  0.002409  \n",
       "Copper     0.081684  0.606092  \n",
       "Lead      -0.007640  0.381283  \n",
       "Manganese  0.244936  0.173325  \n",
       "Nickel     1.000000  0.052271  \n",
       "Zinc       0.052271  1.000000  "
      ]
     },
     "execution_count": 26,
     "metadata": {},
     "output_type": "execute_result"
    }
   ],
   "source": [
    "df_clean.iloc[:, 6:14].corr() #correlation matrix"
   ]
  },
  {
   "cell_type": "markdown",
   "metadata": {},
   "source": [
    "Strong correlations: Zinc-Arsenic, Copper-Arsenic, Copper-Zinc "
   ]
  },
  {
   "cell_type": "code",
   "execution_count": 31,
   "metadata": {},
   "outputs": [
    {
     "data": {
      "text/plain": [
       "<matplotlib.axes._subplots.AxesSubplot at 0x9130ac6898>"
      ]
     },
     "execution_count": 31,
     "metadata": {},
     "output_type": "execute_result"
    },
    {
     "data": {
      "image/png": "[encoded data removed]",
      "text/plain": [
       "<matplotlib.figure.Figure at 0x9130b0cf28>"
      ]
     },
     "metadata": {},
     "output_type": "display_data"
    }
   ],
   "source": [
    "df_clean.Contaminated.value_counts().plot.barh()"
   ]
  },
  {
   "cell_type": "code",
   "execution_count": 27,
   "metadata": {},
   "outputs": [],
   "source": [
    "#Select independent  variable matrix \n",
    "X = df_clean.iloc[:, 6:14].values\n",
    "#Select dependent variable matrix\n",
    "Y = df_clean.iloc[:, 5].values"
   ]
  },
  {
   "cell_type": "code",
   "execution_count": 28,
   "metadata": {
    "collapsed": true
   },
   "outputs": [],
   "source": [
    "# Splitting the dataset into the Training set and Test set\n",
    "from sklearn.model_selection import train_test_split\n",
    "X_train, X_test, Y_train, Y_test = train_test_split(X, Y, test_size = 0.2, random_state = 0)"
   ]
  },
  {
   "cell_type": "code",
   "execution_count": 32,
   "metadata": {
    "collapsed": true
   },
   "outputs": [],
   "source": [
    "# Feature Scaling\n",
    "from sklearn.preprocessing import StandardScaler\n",
    "sc = StandardScaler()\n",
    "X_train = sc.fit_transform(X_train)\n",
    "X_test = sc.transform(X_test)"
   ]
  },
  {
   "cell_type": "code",
   "execution_count": 33,
   "metadata": {},
   "outputs": [
    {
     "data": {
      "text/plain": [
       "array([ 0.3804512 ,  0.21458296,  0.19171673,  0.10904234,  0.04891348,\n",
       "        0.03865981,  0.0159376 ,  0.00069589])"
      ]
     },
     "execution_count": 33,
     "metadata": {},
     "output_type": "execute_result"
    }
   ],
   "source": [
    "# Applying PCA\n",
    "from sklearn.decomposition import PCA\n",
    "pca = PCA(n_components = None)\n",
    "X1_train = pca.fit_transform(X_train)\n",
    "X1_test = pca.transform(X_test)\n",
    "explained_variance = pca.explained_variance_ratio_\n",
    "explained_variance"
   ]
  },
  {
   "cell_type": "markdown",
   "metadata": {},
   "source": [
    "First 2 principal components explain 60% of the variance (0.380+0.214 =0.594) Same shows the next graph. "
   ]
  },
  {
   "cell_type": "code",
   "execution_count": 34,
   "metadata": {},
   "outputs": [
    {
     "data": {
      "text/plain": [
       "<matplotlib.text.Text at 0x9130c9fb38>"
      ]
     },
     "execution_count": 34,
     "metadata": {},
     "output_type": "execute_result"
    },
    {
     "data": {
      "image/png": "[encoded data removed]",
      "text/plain": [
       "<matplotlib.figure.Figure at 0x9130ba60b8>"
      ]
     },
     "metadata": {},
     "output_type": "display_data"
    }
   ],
   "source": [
    "plt.plot(np.cumsum(pca.explained_variance_ratio_))\n",
    "plt.xlabel('number of components')\n",
    "plt.ylabel('cumulative explained variance')"
   ]
  },
  {
   "cell_type": "code",
   "execution_count": 35,
   "metadata": {},
   "outputs": [
    {
     "data": {
      "text/plain": [
       "array([ 0.3804512 ,  0.21458296])"
      ]
     },
     "execution_count": 35,
     "metadata": {},
     "output_type": "execute_result"
    }
   ],
   "source": [
    "from sklearn.decomposition import PCA\n",
    "pca = PCA(n_components = 2)\n",
    "X_train = pca.fit_transform(X_train)\n",
    "X_test = pca.transform(X_test)\n",
    "explained_variance = pca.explained_variance_ratio_\n",
    "explained_variance"
   ]
  },
  {
   "cell_type": "code",
   "execution_count": 36,
   "metadata": {},
   "outputs": [
    {
     "data": {
      "text/plain": [
       "(120, 2)"
      ]
     },
     "execution_count": 36,
     "metadata": {},
     "output_type": "execute_result"
    }
   ],
   "source": [
    "X_train.shape"
   ]
  },
  {
   "cell_type": "code",
   "execution_count": 37,
   "metadata": {},
   "outputs": [
    {
     "data": {
      "text/plain": [
       "(30, 2)"
      ]
     },
     "execution_count": 37,
     "metadata": {},
     "output_type": "execute_result"
    }
   ],
   "source": [
    "X_test.shape"
   ]
  },
  {
   "cell_type": "code",
   "execution_count": 38,
   "metadata": {},
   "outputs": [
    {
     "data": {
      "text/html": [
       "<div>\n",
       "<style>\n",
       "    .dataframe thead tr:only-child th {\n",
       "        text-align: right;\n",
       "    }\n",
       "\n",
       "    .dataframe thead th {\n",
       "        text-align: left;\n",
       "    }\n",
       "\n",
       "    .dataframe tbody tr th {\n",
       "        vertical-align: top;\n",
       "    }\n",
       "</style>\n",
       "<table border=\"1\" class=\"dataframe\">\n",
       "  <thead>\n",
       "    <tr style=\"text-align: right;\">\n",
       "      <th></th>\n",
       "      <th>Arsenic</th>\n",
       "      <th>Cadmium</th>\n",
       "      <th>Chromium</th>\n",
       "      <th>Copper</th>\n",
       "      <th>Lead</th>\n",
       "      <th>Manganese</th>\n",
       "      <th>Nickel</th>\n",
       "      <th>Zinc</th>\n",
       "    </tr>\n",
       "  </thead>\n",
       "  <tbody>\n",
       "    <tr>\n",
       "      <th>0</th>\n",
       "      <td>0.476650</td>\n",
       "      <td>0.398101</td>\n",
       "      <td>0.077027</td>\n",
       "      <td>0.382433</td>\n",
       "      <td>0.409081</td>\n",
       "      <td>0.193462</td>\n",
       "      <td>0.118738</td>\n",
       "      <td>0.493212</td>\n",
       "    </tr>\n",
       "    <tr>\n",
       "      <th>1</th>\n",
       "      <td>-0.160197</td>\n",
       "      <td>-0.007229</td>\n",
       "      <td>0.665308</td>\n",
       "      <td>-0.067991</td>\n",
       "      <td>-0.033909</td>\n",
       "      <td>0.234220</td>\n",
       "      <td>0.676247</td>\n",
       "      <td>-0.117082</td>\n",
       "    </tr>\n",
       "  </tbody>\n",
       "</table>\n",
       "</div>"
      ],
      "text/plain": [
       "    Arsenic   Cadmium  Chromium    Copper      Lead  Manganese    Nickel  \\\n",
       "0  0.476650  0.398101  0.077027  0.382433  0.409081   0.193462  0.118738   \n",
       "1 -0.160197 -0.007229  0.665308 -0.067991 -0.033909   0.234220  0.676247   \n",
       "\n",
       "       Zinc  \n",
       "0  0.493212  \n",
       "1 -0.117082  "
      ]
     },
     "execution_count": 38,
     "metadata": {},
     "output_type": "execute_result"
    }
   ],
   "source": [
    "# Plot pca components using heat map\n",
    "df_components = pd.DataFrame(pca.components_)\n",
    "df_components.columns = df_clean.iloc[:, 6:14].columns\n",
    "df_components"
   ]
  },
  {
   "cell_type": "code",
   "execution_count": 39,
   "metadata": {},
   "outputs": [
    {
     "data": {
      "text/plain": [
       "<matplotlib.axes._subplots.AxesSubplot at 0x9130cc5f28>"
      ]
     },
     "execution_count": 39,
     "metadata": {},
     "output_type": "execute_result"
    },
    {
     "data": {
      "image/png": "[encoded data removed]",
      "text/plain": [
       "<matplotlib.figure.Figure at 0x9130e63048>"
      ]
     },
     "metadata": {},
     "output_type": "display_data"
    }
   ],
   "source": [
    "df_components_t = df_components.T\n",
    "df_norm_col=(df_components_t-df_components_t.mean())/df_components_t.std()\n",
    "sns.heatmap(df_norm_col, cmap=\"Blues\", annot=True)"
   ]
  },
  {
   "cell_type": "code",
   "execution_count": 40,
   "metadata": {},
   "outputs": [
    {
     "name": "stdout",
     "output_type": "stream",
     "text": [
      "Accuracy of SVM classifier on training set: 0.72\n",
      "Accuracy of SVM classifier on test set: 0.73\n"
     ]
    }
   ],
   "source": [
    "from sklearn.svm import SVC\n",
    "classifier = SVC()\n",
    "trained_model =classifier.fit(X_train, Y_train)\n",
    "print('Accuracy of SVM classifier on training set: {:.2f}'.format(trained_model.score(X_train, Y_train)))\n",
    "print('Accuracy of SVM classifier on test set: {:.2f}'.format(trained_model.score(X_test, Y_test)))"
   ]
  },
  {
   "cell_type": "code",
   "execution_count": 41,
   "metadata": {},
   "outputs": [
    {
     "data": {
      "text/plain": [
       "array([[19,  2],\n",
       "       [ 6,  3]])"
      ]
     },
     "execution_count": 41,
     "metadata": {},
     "output_type": "execute_result"
    }
   ],
   "source": [
    "Y_pred = classifier.predict(X_test)\n",
    "# Making the Confusion Matrix\n",
    "cm = confusion_matrix(Y_test, Y_pred)\n",
    "cm"
   ]
  },
  {
   "cell_type": "code",
   "execution_count": 42,
   "metadata": {},
   "outputs": [
    {
     "name": "stdout",
     "output_type": "stream",
     "text": [
      "Model accurcy: 0.733333333333\n"
     ]
    }
   ],
   "source": [
    "print('Model accurcy:',(cm[0,0]+cm[1,1])/(cm[1,0]+cm[0,1] + (cm[0,0]+cm[1,1])))"
   ]
  },
  {
   "cell_type": "code",
   "execution_count": 43,
   "metadata": {},
   "outputs": [
    {
     "name": "stdout",
     "output_type": "stream",
     "text": [
      "Accuracy of SVM classifier on training set: 0.69\n",
      "Accuracy of SVM classifier on test set: 0.67\n"
     ]
    }
   ],
   "source": [
    "# Fitting Logistic Regression to the Training set\n",
    "from sklearn.linear_model import LogisticRegression\n",
    "classifier = LogisticRegression(random_state = 0)\n",
    "trained_model=classifier.fit(X_train, Y_train)\n",
    "print('Accuracy of SVM classifier on training set: {:.2f}'.format(trained_model.score(X_train, Y_train)))\n",
    "print('Accuracy of SVM classifier on test set: {:.2f}'.format(trained_model.score(X_test, Y_test)))"
   ]
  },
  {
   "cell_type": "code",
   "execution_count": 44,
   "metadata": {},
   "outputs": [
    {
     "data": {
      "text/plain": [
       "array([[19,  2],\n",
       "       [ 8,  1]])"
      ]
     },
     "execution_count": 44,
     "metadata": {},
     "output_type": "execute_result"
    }
   ],
   "source": [
    "# Predicting the Test set results\n",
    "Y_pred = classifier.predict(X_test)\n",
    "# Making the Confusion Matrix\n",
    "cm = confusion_matrix(Y_test, Y_pred)\n",
    "cm"
   ]
  },
  {
   "cell_type": "code",
   "execution_count": 45,
   "metadata": {},
   "outputs": [
    {
     "name": "stdout",
     "output_type": "stream",
     "text": [
      "Model accurcy: 0.666666666667\n"
     ]
    }
   ],
   "source": [
    "print('Model accurcy:',(cm[0,0]+cm[1,1])/(cm[1,0]+cm[0,1] + (cm[0,0]+cm[1,1])))"
   ]
  },
  {
   "cell_type": "code",
   "execution_count": 47,
   "metadata": {},
   "outputs": [
    {
     "data": {
      "text/plain": [
       "0.68717948717948718"
      ]
     },
     "execution_count": 47,
     "metadata": {},
     "output_type": "execute_result"
    }
   ],
   "source": [
    "# Applying k-Fold Cross Validation\n",
    "accuracies = cross_val_score(estimator = classifier, X = X_train, y = Y_train, cv = 10)\n",
    "accuracies.mean()"
   ]
  },
  {
   "cell_type": "code",
   "execution_count": 48,
   "metadata": {},
   "outputs": [
    {
     "data": {
      "text/plain": [
       "0.10209610593304611"
      ]
     },
     "execution_count": 48,
     "metadata": {},
     "output_type": "execute_result"
    }
   ],
   "source": [
    "accuracies.std()"
   ]
  },
  {
   "cell_type": "code",
   "execution_count": 49,
   "metadata": {},
   "outputs": [
    {
     "name": "stdout",
     "output_type": "stream",
     "text": [
      "Accuracy of SVM classifier on training set: 0.69\n",
      "Accuracy of SVM classifier on test set: 0.67\n"
     ]
    }
   ],
   "source": [
    "from sklearn.naive_bayes import GaussianNB\n",
    "classifier = GaussianNB()\n",
    "trined_model=classifier.fit(X_train, Y_train)\n",
    "print('Accuracy of SVM classifier on training set: {:.2f}'.format(trained_model.score(X_train, Y_train)))\n",
    "print('Accuracy of SVM classifier on test set: {:.2f}'.format(trained_model.score(X_test, Y_test)))"
   ]
  },
  {
   "cell_type": "code",
   "execution_count": 50,
   "metadata": {},
   "outputs": [
    {
     "data": {
      "text/plain": [
       "array([[19,  2],\n",
       "       [ 6,  3]])"
      ]
     },
     "execution_count": 50,
     "metadata": {},
     "output_type": "execute_result"
    }
   ],
   "source": [
    "# Predicting the Test set results\n",
    "Y_pred = classifier.predict(X_test)\n",
    "\n",
    "# Making the Confusion Matrix\n",
    "cm = confusion_matrix(Y_test, Y_pred)\n",
    "cm"
   ]
  },
  {
   "cell_type": "code",
   "execution_count": 51,
   "metadata": {},
   "outputs": [
    {
     "name": "stdout",
     "output_type": "stream",
     "text": [
      "Model accurcy: 0.733333333333\n"
     ]
    }
   ],
   "source": [
    "print('Model accurcy:',(cm[0,0]+cm[1,1])/(cm[1,0]+cm[0,1] + (cm[0,0]+cm[1,1])))"
   ]
  },
  {
   "cell_type": "code",
   "execution_count": 52,
   "metadata": {},
   "outputs": [
    {
     "data": {
      "text/plain": [
       "0.67948717948717952"
      ]
     },
     "execution_count": 52,
     "metadata": {},
     "output_type": "execute_result"
    }
   ],
   "source": [
    "# Applying k-Fold Cross Validation\n",
    "accuracies = cross_val_score(estimator = classifier, X = X_train, y = Y_train, cv = 10)\n",
    "accuracies.mean()"
   ]
  },
  {
   "cell_type": "code",
   "execution_count": 53,
   "metadata": {},
   "outputs": [
    {
     "data": {
      "text/plain": [
       "0.10429412141573056"
      ]
     },
     "execution_count": 53,
     "metadata": {},
     "output_type": "execute_result"
    }
   ],
   "source": [
    "# Applying k-Fold Cross Validation\n",
    "accuracies = cross_val_score(estimator = classifier, X = X_train, y = Y_train, cv = 10)\n",
    "accuracies.std()"
   ]
  },
  {
   "cell_type": "code",
   "execution_count": 54,
   "metadata": {},
   "outputs": [
    {
     "name": "stdout",
     "output_type": "stream",
     "text": [
      "Accuracy of DecisionTreeClassifier classifier on training set: 1.00\n",
      "Accuracy of DecisionTreeClassifier classifier on test set: 0.73\n"
     ]
    }
   ],
   "source": [
    "# Fitting Decision Tree Classification to the Training set\n",
    "from sklearn.tree import DecisionTreeClassifier\n",
    "from sklearn.metrics import classification_report\n",
    "classifier = DecisionTreeClassifier(criterion = 'entropy', random_state = 0)\n",
    "trained_model=classifier.fit(X_train, Y_train)\n",
    "print('Accuracy of DecisionTreeClassifier classifier on training set: {:.2f}'.format(trained_model.score(X_train, Y_train)))\n",
    "print('Accuracy of DecisionTreeClassifier classifier on test set: {:.2f}'.format(trained_model.score(X_test, Y_test)))\n"
   ]
  },
  {
   "cell_type": "code",
   "execution_count": 55,
   "metadata": {},
   "outputs": [
    {
     "data": {
      "text/plain": [
       "array([[15,  6],\n",
       "       [ 2,  7]])"
      ]
     },
     "execution_count": 55,
     "metadata": {},
     "output_type": "execute_result"
    }
   ],
   "source": [
    "# Predicting the Test set results\n",
    "Y_pred = classifier.predict(X_test)\n",
    "\n",
    "# Making the Confusion Matrix\n",
    "cm = confusion_matrix(Y_test, Y_pred)\n",
    "cm"
   ]
  },
  {
   "cell_type": "code",
   "execution_count": 56,
   "metadata": {},
   "outputs": [
    {
     "name": "stdout",
     "output_type": "stream",
     "text": [
      "Model accurcy: 0.733333333333\n"
     ]
    }
   ],
   "source": [
    "print('Model accurcy:',(cm[0,0]+cm[1,1])/(cm[1,0]+cm[0,1] + (cm[0,0]+cm[1,1])))"
   ]
  },
  {
   "cell_type": "code",
   "execution_count": 57,
   "metadata": {},
   "outputs": [
    {
     "data": {
      "text/plain": [
       "0.70093240093240095"
      ]
     },
     "execution_count": 57,
     "metadata": {},
     "output_type": "execute_result"
    }
   ],
   "source": [
    "# Applying k-Fold Cross Validation\n",
    "accuracies = cross_val_score(estimator = classifier, X = X_train, y = Y_train, cv = 10)\n",
    "accuracies.mean()"
   ]
  },
  {
   "cell_type": "code",
   "execution_count": 58,
   "metadata": {},
   "outputs": [
    {
     "data": {
      "text/plain": [
       "0.16566478828552919"
      ]
     },
     "execution_count": 58,
     "metadata": {},
     "output_type": "execute_result"
    }
   ],
   "source": [
    "accuracies.std()"
   ]
  },
  {
   "cell_type": "code",
   "execution_count": 59,
   "metadata": {},
   "outputs": [
    {
     "name": "stdout",
     "output_type": "stream",
     "text": [
      "             precision    recall  f1-score   support\n",
      "\n",
      "          0       0.88      0.71      0.79        21\n",
      "          1       0.54      0.78      0.64         9\n",
      "\n",
      "avg / total       0.78      0.73      0.74        30\n",
      "\n"
     ]
    }
   ],
   "source": [
    "report = classification_report(Y_test, Y_pred)\n",
    "print(report)"
   ]
  },
  {
   "cell_type": "code",
   "execution_count": 60,
   "metadata": {},
   "outputs": [
    {
     "name": "stdout",
     "output_type": "stream",
     "text": [
      "Accuracy of K-NN classifier on training set: 0.82\n",
      "Accuracy of K-NN classifier on test set: 0.77\n"
     ]
    }
   ],
   "source": [
    "# Fitting K-NN to the training set\n",
    "from sklearn.neighbors import KNeighborsClassifier\n",
    "classifier = KNeighborsClassifier(n_neighbors = 5, metric = 'minkowski', p = 2)\n",
    "trained_model = classifier.fit(X_train, Y_train)\n",
    "print('Accuracy of K-NN classifier on training set: {:.2f}'.format(trained_model.score(X_train, Y_train)))\n",
    "print('Accuracy of K-NN classifier on test set: {:.2f}'.format(trained_model.score(X_test, Y_test)))\n"
   ]
  },
  {
   "cell_type": "code",
   "execution_count": 61,
   "metadata": {},
   "outputs": [
    {
     "data": {
      "text/plain": [
       "array([[17,  4],\n",
       "       [ 3,  6]])"
      ]
     },
     "execution_count": 61,
     "metadata": {},
     "output_type": "execute_result"
    }
   ],
   "source": [
    "# Predicting the Test set results\n",
    "Y_pred = classifier.predict(X_test)\n",
    "# Making the Confusion Matrix\n",
    "m = confusion_matrix(Y_test, Y_pred)\n",
    "cm"
   ]
  },
  {
   "cell_type": "code",
   "execution_count": 62,
   "metadata": {},
   "outputs": [
    {
     "name": "stdout",
     "output_type": "stream",
     "text": [
      "Model accurcy: 0.766666666667\n"
     ]
    }
   ],
   "source": [
    "print('Model accurcy:',(cm[0,0]+cm[1,1])/(cm[1,0]+cm[0,1] + (cm[0,0]+cm[1,1])))"
   ]
  },
  {
   "cell_type": "code",
   "execution_count": 63,
   "metadata": {},
   "outputs": [
    {
     "data": {
      "text/plain": [
       "0.74446386946386944"
      ]
     },
     "execution_count": 63,
     "metadata": {},
     "output_type": "execute_result"
    }
   ],
   "source": [
    "# Applying k-Fold Cross Validation\n",
    "accuracies = cross_val_score(estimator = classifier, X = X_train, y = Y_train, cv = 10)\n",
    "accuracies.mean()"
   ]
  },
  {
   "cell_type": "code",
   "execution_count": 64,
   "metadata": {},
   "outputs": [
    {
     "data": {
      "text/plain": [
       "0.1203780615894423"
      ]
     },
     "execution_count": 64,
     "metadata": {},
     "output_type": "execute_result"
    }
   ],
   "source": [
    "accuracies.std()"
   ]
  },
  {
   "cell_type": "code",
   "execution_count": 66,
   "metadata": {},
   "outputs": [
    {
     "data": {
      "image/png": "[encoded data removed]",
      "text/plain": [
       "<matplotlib.figure.Figure at 0x9131d35e48>"
      ]
     },
     "metadata": {},
     "output_type": "display_data"
    }
   ],
   "source": [
    "# Visualising the Training set results\n",
    "from matplotlib.colors import ListedColormap\n",
    "X_set, y_set = X_train, Y_train\n",
    "X1, X2 = np.meshgrid(np.arange(start = X_set[:, 0].min() - 1, stop = X_set[:, 0].max() + 1, step = 0.01),\n",
    "                     np.arange(start = X_set[:, 1].min() - 1, stop = X_set[:, 1].max() + 1, step = 0.01))\n",
    "plt.contourf(X1, X2, classifier.predict(np.array([X1.ravel(), X2.ravel()]).T).reshape(X1.shape),\n",
    "             alpha = 0.75, cmap = ListedColormap(('red', 'green')))\n",
    "plt.xlim(X1.min(), X1.max())\n",
    "plt.ylim(X2.min(), X2.max())\n",
    "for i, j in enumerate(np.unique(y_set)):\n",
    "    plt.scatter(X_set[y_set == j, 0], X_set[y_set == j, 1],\n",
    "                c = ListedColormap(('red', 'green'))(i), label = j)\n",
    "plt.title('K-NN (Training set)')\n",
    "plt.xlabel('PC1')\n",
    "plt.ylabel('PC2')\n",
    "plt.legend()\n",
    "plt.show()"
   ]
  },
  {
   "cell_type": "code",
   "execution_count": 67,
   "metadata": {},
   "outputs": [
    {
     "data": {
      "image/png": "[encoded data removed]",
      "text/plain": [
       "<matplotlib.figure.Figure at 0x913074deb8>"
      ]
     },
     "metadata": {},
     "output_type": "display_data"
    }
   ],
   "source": [
    "# Visualising the Test set results\n",
    "from matplotlib.colors import ListedColormap\n",
    "X_set, Y_set = X_test, Y_test\n",
    "X1, X2 = np.meshgrid(np.arange(start = X_set[:, 0].min() - 1, stop = X_set[:, 0].max() + 1, step = 0.01),\n",
    "                     np.arange(start = X_set[:, 1].min() - 1, stop = X_set[:, 1].max() + 1, step = 0.01))\n",
    "plt.contourf(X1, X2, classifier.predict(np.array([X1.ravel(), X2.ravel()]).T).reshape(X1.shape),\n",
    "             alpha = 0.75, cmap = ListedColormap(('red', 'green')))\n",
    "plt.xlim(X1.min(), X1.max())\n",
    "plt.ylim(X2.min(), X2.max())\n",
    "for i, j in enumerate(np.unique(Y_set)):\n",
    "    plt.scatter(X_set[Y_set == j, 0], X_set[Y_set == j, 1],\n",
    "                c = ListedColormap(('red', 'green'))(i), label = j)\n",
    "plt.title('K-NN (Training set)')\n",
    "plt.xlabel('PC1')\n",
    "plt.ylabel('PC2')\n",
    "plt.legend()\n",
    "plt.show()"
   ]
  },
  {
   "cell_type": "code",
   "execution_count": null,
   "metadata": {
    "collapsed": true
   },
   "outputs": [],
   "source": []
  }
 ],
 "metadata": {
  "kernelspec": {
   "display_name": "Python 3",
   "language": "python",
   "name": "python3"
  },
  "language_info": {
   "codemirror_mode": {
    "name": "ipython",
    "version": 3
   },
   "file_extension": ".py",
   "mimetype": "text/x-python",
   "name": "python",
   "nbconvert_exporter": "python",
   "pygments_lexer": "ipython3",
   "version": "3.6.1"
  }
 },
 "nbformat": 4,
 "nbformat_minor": 2
}
